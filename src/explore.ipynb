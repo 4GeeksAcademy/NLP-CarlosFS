{
    "cells": [
        {
            "cell_type": "code",
            "execution_count": null,
            "metadata": {},
            "outputs": [
                {
                    "data": {
                        "text/html": [
                            "<div>\n",
                            "<style scoped>\n",
                            "    .dataframe tbody tr th:only-of-type {\n",
                            "        vertical-align: middle;\n",
                            "    }\n",
                            "\n",
                            "    .dataframe tbody tr th {\n",
                            "        vertical-align: top;\n",
                            "    }\n",
                            "\n",
                            "    .dataframe thead th {\n",
                            "        text-align: right;\n",
                            "    }\n",
                            "</style>\n",
                            "<table border=\"1\" class=\"dataframe\">\n",
                            "  <thead>\n",
                            "    <tr style=\"text-align: right;\">\n",
                            "      <th></th>\n",
                            "      <th>url</th>\n",
                            "      <th>is_spam</th>\n",
                            "    </tr>\n",
                            "  </thead>\n",
                            "  <tbody>\n",
                            "    <tr>\n",
                            "      <th>0</th>\n",
                            "      <td>https://briefingday.us8.list-manage.com/unsubs...</td>\n",
                            "      <td>True</td>\n",
                            "    </tr>\n",
                            "    <tr>\n",
                            "      <th>1</th>\n",
                            "      <td>https://www.hvper.com/</td>\n",
                            "      <td>True</td>\n",
                            "    </tr>\n",
                            "    <tr>\n",
                            "      <th>2</th>\n",
                            "      <td>https://briefingday.com/m/v4n3i4f3</td>\n",
                            "      <td>True</td>\n",
                            "    </tr>\n",
                            "    <tr>\n",
                            "      <th>3</th>\n",
                            "      <td>https://briefingday.com/n/20200618/m#commentform</td>\n",
                            "      <td>False</td>\n",
                            "    </tr>\n",
                            "    <tr>\n",
                            "      <th>4</th>\n",
                            "      <td>https://briefingday.com/fan</td>\n",
                            "      <td>True</td>\n",
                            "    </tr>\n",
                            "  </tbody>\n",
                            "</table>\n",
                            "</div>"
                        ],
                        "text/plain": [
                            "                                                 url  is_spam\n",
                            "0  https://briefingday.us8.list-manage.com/unsubs...     True\n",
                            "1                             https://www.hvper.com/     True\n",
                            "2                 https://briefingday.com/m/v4n3i4f3     True\n",
                            "3   https://briefingday.com/n/20200618/m#commentform    False\n",
                            "4                        https://briefingday.com/fan     True"
                        ]
                    },
                    "execution_count": 65,
                    "metadata": {},
                    "output_type": "execute_result"
                }
            ],
            "source": [
                "import pandas as pd\n",
                "\n",
                "url = 'https://raw.githubusercontent.com/4GeeksAcademy/NLP-project-tutorial/main/url_spam.csv'\n",
                "total_data = pd.read_csv(url)\n",
                "\n",
                "total_data.head()"
            ]
        },
        {
            "cell_type": "markdown",
            "metadata": {},
            "source": [
                "Transformación categórica a numérica"
            ]
        },
        {
            "cell_type": "code",
            "execution_count": 66,
            "metadata": {},
            "outputs": [
                {
                    "data": {
                        "text/html": [
                            "<div>\n",
                            "<style scoped>\n",
                            "    .dataframe tbody tr th:only-of-type {\n",
                            "        vertical-align: middle;\n",
                            "    }\n",
                            "\n",
                            "    .dataframe tbody tr th {\n",
                            "        vertical-align: top;\n",
                            "    }\n",
                            "\n",
                            "    .dataframe thead th {\n",
                            "        text-align: right;\n",
                            "    }\n",
                            "</style>\n",
                            "<table border=\"1\" class=\"dataframe\">\n",
                            "  <thead>\n",
                            "    <tr style=\"text-align: right;\">\n",
                            "      <th></th>\n",
                            "      <th>url</th>\n",
                            "      <th>is_spam</th>\n",
                            "    </tr>\n",
                            "  </thead>\n",
                            "  <tbody>\n",
                            "    <tr>\n",
                            "      <th>0</th>\n",
                            "      <td>https://briefingday.us8.list-manage.com/unsubs...</td>\n",
                            "      <td>1</td>\n",
                            "    </tr>\n",
                            "    <tr>\n",
                            "      <th>1</th>\n",
                            "      <td>https://www.hvper.com/</td>\n",
                            "      <td>1</td>\n",
                            "    </tr>\n",
                            "    <tr>\n",
                            "      <th>2</th>\n",
                            "      <td>https://briefingday.com/m/v4n3i4f3</td>\n",
                            "      <td>1</td>\n",
                            "    </tr>\n",
                            "    <tr>\n",
                            "      <th>3</th>\n",
                            "      <td>https://briefingday.com/n/20200618/m#commentform</td>\n",
                            "      <td>0</td>\n",
                            "    </tr>\n",
                            "    <tr>\n",
                            "      <th>4</th>\n",
                            "      <td>https://briefingday.com/fan</td>\n",
                            "      <td>1</td>\n",
                            "    </tr>\n",
                            "  </tbody>\n",
                            "</table>\n",
                            "</div>"
                        ],
                        "text/plain": [
                            "                                                 url  is_spam\n",
                            "0  https://briefingday.us8.list-manage.com/unsubs...        1\n",
                            "1                             https://www.hvper.com/        1\n",
                            "2                 https://briefingday.com/m/v4n3i4f3        1\n",
                            "3   https://briefingday.com/n/20200618/m#commentform        0\n",
                            "4                        https://briefingday.com/fan        1"
                        ]
                    },
                    "execution_count": 66,
                    "metadata": {},
                    "output_type": "execute_result"
                }
            ],
            "source": [
                "total_data[\"is_spam\"] = total_data[\"is_spam\"].astype(int)\n",
                "total_data.head()"
            ]
        },
        {
            "cell_type": "code",
            "execution_count": 67,
            "metadata": {},
            "outputs": [
                {
                    "name": "stdout",
                    "output_type": "stream",
                    "text": [
                        "Spam: 244\n",
                        "No spam: 2125\n"
                    ]
                }
            ],
            "source": [
                "total_data = total_data.drop_duplicates()\n",
                "total_data = total_data.reset_index(inplace = False, drop = True)\n",
                "print(f\"Spam: {len(total_data.loc[total_data['is_spam'] == 1])}\")\n",
                "print(f\"No spam: {len(total_data.loc[total_data['is_spam'] == 0])}\")"
            ]
        },
        {
            "cell_type": "code",
            "execution_count": 68,
            "metadata": {},
            "outputs": [
                {
                    "data": {
                        "text/plain": [
                            "(2369, 2)"
                        ]
                    },
                    "execution_count": 68,
                    "metadata": {},
                    "output_type": "execute_result"
                }
            ],
            "source": [
                "total_data.shape"
            ]
        },
        {
            "cell_type": "markdown",
            "metadata": {},
            "source": [
                "Voy ha aplicar tanto el procesamiento del texto como la lematización y eliminación de stopwords en un mismo código"
            ]
        },
        {
            "cell_type": "code",
            "execution_count": 69,
            "metadata": {},
            "outputs": [
                {
                    "name": "stderr",
                    "output_type": "stream",
                    "text": [
                        "[nltk_data] Downloading package punkt to /home/vscode/nltk_data...\n",
                        "[nltk_data]   Package punkt is already up-to-date!\n",
                        "[nltk_data] Downloading package stopwords to /home/vscode/nltk_data...\n",
                        "[nltk_data]   Package stopwords is already up-to-date!\n",
                        "[nltk_data] Downloading package wordnet to /home/vscode/nltk_data...\n",
                        "[nltk_data]   Package wordnet is already up-to-date!\n"
                    ]
                }
            ],
            "source": [
                "import re\n",
                "from nltk.corpus import stopwords\n",
                "from nltk.tokenize import word_tokenize\n",
                "import nltk\n",
                "nltk.download('punkt')\n",
                "nltk.download('stopwords')\n",
                "from nltk.stem import WordNetLemmatizer\n",
                "nltk.download('wordnet')\n",
                "\n",
                "stop_words = set(stopwords.words('english'))\n",
                "lemmatizer = WordNetLemmatizer()\n",
                "\n",
                "irrelevant_tokens = {'http', 'https:', 'www', 'com', 'net', 'org'} #al tratarse de urls creo que estos tokens se pueden eliminar\n",
                "\n",
                "def preprocess_url(url):\n",
                "    #separar por '/', '.', '-', etc.\n",
                "    tokens = re.split(r'[/.?-]+', url)\n",
                "    tokens = [token.lower() for token in tokens if token and token.lower() not in irrelevant_tokens]    \n",
                "    tokens = [token for token in tokens if token not in stop_words]\n",
                "    tokens = [lemmatizer.lemmatize(token) for token in tokens]\n",
                "    \n",
                "    return tokens\n"
            ]
        },
        {
            "cell_type": "code",
            "execution_count": 70,
            "metadata": {},
            "outputs": [
                {
                    "name": "stdout",
                    "output_type": "stream",
                    "text": [
                        "                                             url  is_spam\n",
                        "0  [briefingday, us8, list, manage, unsubscribe]        1\n",
                        "1                                        [hvper]        1\n",
                        "2                        [briefingday, v4n3i4f3]        1\n",
                        "3      [briefingday, n, 20200618, m#commentform]        0\n",
                        "4                             [briefingday, fan]        1\n"
                    ]
                }
            ],
            "source": [
                "total_data[\"url\"] = total_data[\"url\"].apply(preprocess_url)\n",
                "print(total_data.head())"
            ]
        },
        {
            "cell_type": "markdown",
            "metadata": {},
            "source": [
                "Convertir el texto en números"
            ]
        },
        {
            "cell_type": "code",
            "execution_count": 71,
            "metadata": {},
            "outputs": [],
            "source": [
                "from sklearn.feature_extraction.text import TfidfVectorizer\n",
                "\n",
                "tokens_list = total_data[\"url\"]\n",
                "tokens_list = [\" \".join(tokens) for tokens in tokens_list]\n",
                "\n",
                "vectorizer = TfidfVectorizer(max_features = 5000, max_df = 0.8, min_df = 5)\n",
                "X = vectorizer.fit_transform(tokens_list).toarray()\n",
                "y = total_data[\"is_spam\"]"
            ]
        },
        {
            "cell_type": "code",
            "execution_count": null,
            "metadata": {},
            "outputs": [
                {
                    "data": {
                        "text/plain": [
                            "array([[0., 0., 0., ..., 0., 0., 0.],\n",
                            "       [0., 0., 0., ..., 0., 0., 0.],\n",
                            "       [0., 0., 0., ..., 0., 0., 0.],\n",
                            "       ...,\n",
                            "       [0., 0., 0., ..., 0., 0., 0.],\n",
                            "       [0., 0., 0., ..., 0., 0., 0.],\n",
                            "       [0., 0., 0., ..., 0., 0., 0.]], shape=(2369, 665))"
                        ]
                    },
                    "execution_count": 74,
                    "metadata": {},
                    "output_type": "execute_result"
                }
            ],
            "source": [
                "X"
            ]
        },
        {
            "cell_type": "markdown",
            "metadata": {},
            "source": [
                "Entrenamiento del modelo"
            ]
        },
        {
            "cell_type": "code",
            "execution_count": 72,
            "metadata": {},
            "outputs": [],
            "source": [
                "from sklearn.model_selection import train_test_split\n",
                "\n",
                "X_train, X_test, y_train, y_test = train_test_split(X, y, test_size = 0.2, random_state = 42)"
            ]
        },
        {
            "cell_type": "code",
            "execution_count": 77,
            "metadata": {},
            "outputs": [],
            "source": [
                "from sklearn.svm import SVC\n",
                "\n",
                "model = SVC(kernel = \"rbf\", C = 1.0, gamma = 0.5)\n",
                "model.fit(X_train, y_train)\n",
                "\n",
                "y_pred = model.predict(X_test)"
            ]
        },
        {
            "cell_type": "code",
            "execution_count": 78,
            "metadata": {},
            "outputs": [
                {
                    "data": {
                        "text/plain": [
                            "0.959915611814346"
                        ]
                    },
                    "execution_count": 78,
                    "metadata": {},
                    "output_type": "execute_result"
                }
            ],
            "source": [
                "from sklearn.metrics import accuracy_score\n",
                "\n",
                "accuracy_score(y_test, y_pred)"
            ]
        },
        {
            "cell_type": "markdown",
            "metadata": {},
            "source": [
                "95% de precisión me parece un resultado bastante bueno para un modelo de este tipo la verdad, pero vamos a ver si se puede mejorar optimizando los hiperparámetros"
            ]
        },
        {
            "cell_type": "code",
            "execution_count": null,
            "metadata": {},
            "outputs": [
                {
                    "name": "stdout",
                    "output_type": "stream",
                    "text": [
                        "Fitting 5 folds for each of 32 candidates, totalling 160 fits\n",
                        "[CV] END .....................C=0.1, gamma=0.001, kernel=rbf; total time=   0.2s\n",
                        "[CV] END .....................C=0.1, gamma=0.001, kernel=rbf; total time=   0.2s\n",
                        "[CV] END .....................C=0.1, gamma=0.001, kernel=rbf; total time=   0.1s\n",
                        "[CV] END .....................C=0.1, gamma=0.001, kernel=rbf; total time=   0.1s\n",
                        "[CV] END .....................C=0.1, gamma=0.001, kernel=rbf; total time=   0.1s\n",
                        "[CV] END ..................C=0.1, gamma=0.001, kernel=linear; total time=   0.2s\n",
                        "[CV] END ..................C=0.1, gamma=0.001, kernel=linear; total time=   0.2s\n",
                        "[CV] END ..................C=0.1, gamma=0.001, kernel=linear; total time=   0.2s\n",
                        "[CV] END ..................C=0.1, gamma=0.001, kernel=linear; total time=   0.2s\n",
                        "[CV] END ..................C=0.1, gamma=0.001, kernel=linear; total time=   0.2s\n",
                        "[CV] END ......................C=0.1, gamma=0.01, kernel=rbf; total time=   0.2s\n",
                        "[CV] END ......................C=0.1, gamma=0.01, kernel=rbf; total time=   0.2s\n",
                        "[CV] END ......................C=0.1, gamma=0.01, kernel=rbf; total time=   0.2s\n",
                        "[CV] END ......................C=0.1, gamma=0.01, kernel=rbf; total time=   0.2s\n",
                        "[CV] END ......................C=0.1, gamma=0.01, kernel=rbf; total time=   0.2s\n",
                        "[CV] END ...................C=0.1, gamma=0.01, kernel=linear; total time=   0.2s\n",
                        "[CV] END ...................C=0.1, gamma=0.01, kernel=linear; total time=   0.2s\n",
                        "[CV] END ...................C=0.1, gamma=0.01, kernel=linear; total time=   0.2s\n",
                        "[CV] END ...................C=0.1, gamma=0.01, kernel=linear; total time=   0.2s\n",
                        "[CV] END ...................C=0.1, gamma=0.01, kernel=linear; total time=   0.2s\n",
                        "[CV] END .......................C=0.1, gamma=0.1, kernel=rbf; total time=   0.3s\n",
                        "[CV] END .......................C=0.1, gamma=0.1, kernel=rbf; total time=   0.2s\n",
                        "[CV] END .......................C=0.1, gamma=0.1, kernel=rbf; total time=   0.2s\n",
                        "[CV] END .......................C=0.1, gamma=0.1, kernel=rbf; total time=   0.2s\n",
                        "[CV] END .......................C=0.1, gamma=0.1, kernel=rbf; total time=   0.2s\n",
                        "[CV] END ....................C=0.1, gamma=0.1, kernel=linear; total time=   0.2s\n",
                        "[CV] END ....................C=0.1, gamma=0.1, kernel=linear; total time=   0.2s\n",
                        "[CV] END ....................C=0.1, gamma=0.1, kernel=linear; total time=   0.2s\n",
                        "[CV] END ....................C=0.1, gamma=0.1, kernel=linear; total time=   0.3s\n",
                        "[CV] END ....................C=0.1, gamma=0.1, kernel=linear; total time=   0.2s\n",
                        "[CV] END .........................C=0.1, gamma=1, kernel=rbf; total time=   0.8s\n",
                        "[CV] END .........................C=0.1, gamma=1, kernel=rbf; total time=   0.7s\n",
                        "[CV] END .........................C=0.1, gamma=1, kernel=rbf; total time=   0.5s\n",
                        "[CV] END .........................C=0.1, gamma=1, kernel=rbf; total time=   0.4s\n",
                        "[CV] END .........................C=0.1, gamma=1, kernel=rbf; total time=   0.5s\n",
                        "[CV] END ......................C=0.1, gamma=1, kernel=linear; total time=   0.2s\n",
                        "[CV] END ......................C=0.1, gamma=1, kernel=linear; total time=   0.2s\n",
                        "[CV] END ......................C=0.1, gamma=1, kernel=linear; total time=   0.3s\n",
                        "[CV] END ......................C=0.1, gamma=1, kernel=linear; total time=   0.2s\n",
                        "[CV] END ......................C=0.1, gamma=1, kernel=linear; total time=   0.3s\n",
                        "[CV] END .......................C=1, gamma=0.001, kernel=rbf; total time=   0.3s\n",
                        "[CV] END .......................C=1, gamma=0.001, kernel=rbf; total time=   0.3s\n",
                        "[CV] END .......................C=1, gamma=0.001, kernel=rbf; total time=   0.3s\n",
                        "[CV] END .......................C=1, gamma=0.001, kernel=rbf; total time=   0.3s\n",
                        "[CV] END .......................C=1, gamma=0.001, kernel=rbf; total time=   0.4s\n",
                        "[CV] END ....................C=1, gamma=0.001, kernel=linear; total time=   0.2s\n",
                        "[CV] END ....................C=1, gamma=0.001, kernel=linear; total time=   0.1s\n",
                        "[CV] END ....................C=1, gamma=0.001, kernel=linear; total time=   0.1s\n",
                        "[CV] END ....................C=1, gamma=0.001, kernel=linear; total time=   0.1s\n",
                        "[CV] END ....................C=1, gamma=0.001, kernel=linear; total time=   0.1s\n",
                        "[CV] END ........................C=1, gamma=0.01, kernel=rbf; total time=   0.4s\n",
                        "[CV] END ........................C=1, gamma=0.01, kernel=rbf; total time=   0.3s\n",
                        "[CV] END ........................C=1, gamma=0.01, kernel=rbf; total time=   0.2s\n",
                        "[CV] END ........................C=1, gamma=0.01, kernel=rbf; total time=   0.3s\n",
                        "[CV] END ........................C=1, gamma=0.01, kernel=rbf; total time=   0.2s\n",
                        "[CV] END .....................C=1, gamma=0.01, kernel=linear; total time=   0.2s\n",
                        "[CV] END .....................C=1, gamma=0.01, kernel=linear; total time=   0.2s\n",
                        "[CV] END .....................C=1, gamma=0.01, kernel=linear; total time=   0.2s\n",
                        "[CV] END .....................C=1, gamma=0.01, kernel=linear; total time=   0.1s\n",
                        "[CV] END .....................C=1, gamma=0.01, kernel=linear; total time=   0.1s\n",
                        "[CV] END .........................C=1, gamma=0.1, kernel=rbf; total time=   0.2s\n",
                        "[CV] END .........................C=1, gamma=0.1, kernel=rbf; total time=   0.2s\n",
                        "[CV] END .........................C=1, gamma=0.1, kernel=rbf; total time=   0.2s\n",
                        "[CV] END .........................C=1, gamma=0.1, kernel=rbf; total time=   0.2s\n",
                        "[CV] END .........................C=1, gamma=0.1, kernel=rbf; total time=   0.2s\n",
                        "[CV] END ......................C=1, gamma=0.1, kernel=linear; total time=   0.2s\n",
                        "[CV] END ......................C=1, gamma=0.1, kernel=linear; total time=   0.1s\n",
                        "[CV] END ......................C=1, gamma=0.1, kernel=linear; total time=   0.1s\n",
                        "[CV] END ......................C=1, gamma=0.1, kernel=linear; total time=   0.1s\n",
                        "[CV] END ......................C=1, gamma=0.1, kernel=linear; total time=   0.1s\n",
                        "[CV] END ...........................C=1, gamma=1, kernel=rbf; total time=   0.3s\n",
                        "[CV] END ...........................C=1, gamma=1, kernel=rbf; total time=   0.3s\n",
                        "[CV] END ...........................C=1, gamma=1, kernel=rbf; total time=   0.3s\n",
                        "[CV] END ...........................C=1, gamma=1, kernel=rbf; total time=   0.3s\n",
                        "[CV] END ...........................C=1, gamma=1, kernel=rbf; total time=   0.3s\n",
                        "[CV] END ........................C=1, gamma=1, kernel=linear; total time=   0.1s\n",
                        "[CV] END ........................C=1, gamma=1, kernel=linear; total time=   0.1s\n",
                        "[CV] END ........................C=1, gamma=1, kernel=linear; total time=   0.1s\n",
                        "[CV] END ........................C=1, gamma=1, kernel=linear; total time=   0.1s\n",
                        "[CV] END ........................C=1, gamma=1, kernel=linear; total time=   0.1s\n",
                        "[CV] END ......................C=10, gamma=0.001, kernel=rbf; total time=   0.2s\n",
                        "[CV] END ......................C=10, gamma=0.001, kernel=rbf; total time=   0.2s\n",
                        "[CV] END ......................C=10, gamma=0.001, kernel=rbf; total time=   0.2s\n",
                        "[CV] END ......................C=10, gamma=0.001, kernel=rbf; total time=   0.2s\n",
                        "[CV] END ......................C=10, gamma=0.001, kernel=rbf; total time=   0.2s\n",
                        "[CV] END ...................C=10, gamma=0.001, kernel=linear; total time=   0.2s\n",
                        "[CV] END ...................C=10, gamma=0.001, kernel=linear; total time=   0.1s\n",
                        "[CV] END ...................C=10, gamma=0.001, kernel=linear; total time=   0.1s\n",
                        "[CV] END ...................C=10, gamma=0.001, kernel=linear; total time=   0.1s\n",
                        "[CV] END ...................C=10, gamma=0.001, kernel=linear; total time=   0.1s\n",
                        "[CV] END .......................C=10, gamma=0.01, kernel=rbf; total time=   0.2s\n",
                        "[CV] END .......................C=10, gamma=0.01, kernel=rbf; total time=   0.2s\n",
                        "[CV] END .......................C=10, gamma=0.01, kernel=rbf; total time=   0.2s\n",
                        "[CV] END .......................C=10, gamma=0.01, kernel=rbf; total time=   0.2s\n",
                        "[CV] END .......................C=10, gamma=0.01, kernel=rbf; total time=   0.2s\n",
                        "[CV] END ....................C=10, gamma=0.01, kernel=linear; total time=   0.1s\n",
                        "[CV] END ....................C=10, gamma=0.01, kernel=linear; total time=   0.1s\n",
                        "[CV] END ....................C=10, gamma=0.01, kernel=linear; total time=   0.1s\n",
                        "[CV] END ....................C=10, gamma=0.01, kernel=linear; total time=   0.1s\n",
                        "[CV] END ....................C=10, gamma=0.01, kernel=linear; total time=   0.1s\n",
                        "[CV] END ........................C=10, gamma=0.1, kernel=rbf; total time=   0.2s\n",
                        "[CV] END ........................C=10, gamma=0.1, kernel=rbf; total time=   0.2s\n",
                        "[CV] END ........................C=10, gamma=0.1, kernel=rbf; total time=   0.2s\n",
                        "[CV] END ........................C=10, gamma=0.1, kernel=rbf; total time=   0.2s\n",
                        "[CV] END ........................C=10, gamma=0.1, kernel=rbf; total time=   0.2s\n",
                        "[CV] END .....................C=10, gamma=0.1, kernel=linear; total time=   0.1s\n",
                        "[CV] END .....................C=10, gamma=0.1, kernel=linear; total time=   0.1s\n",
                        "[CV] END .....................C=10, gamma=0.1, kernel=linear; total time=   0.1s\n",
                        "[CV] END .....................C=10, gamma=0.1, kernel=linear; total time=   0.2s\n",
                        "[CV] END .....................C=10, gamma=0.1, kernel=linear; total time=   0.1s\n",
                        "[CV] END ..........................C=10, gamma=1, kernel=rbf; total time=   0.3s\n",
                        "[CV] END ..........................C=10, gamma=1, kernel=rbf; total time=   0.3s\n",
                        "[CV] END ..........................C=10, gamma=1, kernel=rbf; total time=   0.3s\n",
                        "[CV] END ..........................C=10, gamma=1, kernel=rbf; total time=   0.3s\n",
                        "[CV] END ..........................C=10, gamma=1, kernel=rbf; total time=   0.3s\n",
                        "[CV] END .......................C=10, gamma=1, kernel=linear; total time=   0.1s\n",
                        "[CV] END .......................C=10, gamma=1, kernel=linear; total time=   0.1s\n",
                        "[CV] END .......................C=10, gamma=1, kernel=linear; total time=   0.1s\n",
                        "[CV] END .......................C=10, gamma=1, kernel=linear; total time=   0.1s\n",
                        "[CV] END .......................C=10, gamma=1, kernel=linear; total time=   0.1s\n",
                        "[CV] END .....................C=100, gamma=0.001, kernel=rbf; total time=   0.2s\n",
                        "[CV] END .....................C=100, gamma=0.001, kernel=rbf; total time=   0.2s\n",
                        "[CV] END .....................C=100, gamma=0.001, kernel=rbf; total time=   0.2s\n",
                        "[CV] END .....................C=100, gamma=0.001, kernel=rbf; total time=   0.2s\n",
                        "[CV] END .....................C=100, gamma=0.001, kernel=rbf; total time=   0.2s\n",
                        "[CV] END ..................C=100, gamma=0.001, kernel=linear; total time=   0.1s\n",
                        "[CV] END ..................C=100, gamma=0.001, kernel=linear; total time=   0.1s\n",
                        "[CV] END ..................C=100, gamma=0.001, kernel=linear; total time=   0.1s\n",
                        "[CV] END ..................C=100, gamma=0.001, kernel=linear; total time=   0.1s\n",
                        "[CV] END ..................C=100, gamma=0.001, kernel=linear; total time=   0.1s\n",
                        "[CV] END ......................C=100, gamma=0.01, kernel=rbf; total time=   0.2s\n",
                        "[CV] END ......................C=100, gamma=0.01, kernel=rbf; total time=   0.2s\n",
                        "[CV] END ......................C=100, gamma=0.01, kernel=rbf; total time=   0.2s\n",
                        "[CV] END ......................C=100, gamma=0.01, kernel=rbf; total time=   0.2s\n",
                        "[CV] END ......................C=100, gamma=0.01, kernel=rbf; total time=   0.3s\n",
                        "[CV] END ...................C=100, gamma=0.01, kernel=linear; total time=   0.2s\n",
                        "[CV] END ...................C=100, gamma=0.01, kernel=linear; total time=   0.2s\n",
                        "[CV] END ...................C=100, gamma=0.01, kernel=linear; total time=   0.2s\n",
                        "[CV] END ...................C=100, gamma=0.01, kernel=linear; total time=   0.1s\n",
                        "[CV] END ...................C=100, gamma=0.01, kernel=linear; total time=   0.1s\n",
                        "[CV] END .......................C=100, gamma=0.1, kernel=rbf; total time=   0.2s\n",
                        "[CV] END .......................C=100, gamma=0.1, kernel=rbf; total time=   0.2s\n",
                        "[CV] END .......................C=100, gamma=0.1, kernel=rbf; total time=   0.2s\n",
                        "[CV] END .......................C=100, gamma=0.1, kernel=rbf; total time=   0.2s\n",
                        "[CV] END .......................C=100, gamma=0.1, kernel=rbf; total time=   0.2s\n",
                        "[CV] END ....................C=100, gamma=0.1, kernel=linear; total time=   0.1s\n",
                        "[CV] END ....................C=100, gamma=0.1, kernel=linear; total time=   0.1s\n",
                        "[CV] END ....................C=100, gamma=0.1, kernel=linear; total time=   0.1s\n",
                        "[CV] END ....................C=100, gamma=0.1, kernel=linear; total time=   0.1s\n",
                        "[CV] END ....................C=100, gamma=0.1, kernel=linear; total time=   0.1s\n",
                        "[CV] END .........................C=100, gamma=1, kernel=rbf; total time=   0.3s\n",
                        "[CV] END .........................C=100, gamma=1, kernel=rbf; total time=   0.3s\n",
                        "[CV] END .........................C=100, gamma=1, kernel=rbf; total time=   0.3s\n",
                        "[CV] END .........................C=100, gamma=1, kernel=rbf; total time=   0.3s\n",
                        "[CV] END .........................C=100, gamma=1, kernel=rbf; total time=   0.3s\n",
                        "[CV] END ......................C=100, gamma=1, kernel=linear; total time=   0.2s\n",
                        "[CV] END ......................C=100, gamma=1, kernel=linear; total time=   0.1s\n",
                        "[CV] END ......................C=100, gamma=1, kernel=linear; total time=   0.2s\n",
                        "[CV] END ......................C=100, gamma=1, kernel=linear; total time=   0.2s\n",
                        "[CV] END ......................C=100, gamma=1, kernel=linear; total time=   0.1s\n",
                        "Mejores parámetros: {'C': 10, 'gamma': 1, 'kernel': 'rbf'}\n",
                        "Mejor modelo: SVC(C=10, gamma=1)\n"
                    ]
                }
            ],
            "source": [
                "from sklearn.model_selection import GridSearchCV\n",
                "from sklearn.svm import SVC\n",
                "\n",
                "# espacio de hiperparámetros a explorar\n",
                "param_grid = {\n",
                "    'C': [0.1, 1, 10, 100],\n",
                "    'gamma': [0.001, 0.01, 0.1, 1],\n",
                "    'kernel': ['rbf', 'linear']\n",
                "}\n",
                "\n",
                "grid_search = GridSearchCV(SVC(), param_grid, refit=True, cv=5, verbose=2)\n",
                "grid_search.fit(X_train, y_train)\n",
                "\n",
                "print(\"Mejores parámetros:\", grid_search.best_params_)\n",
                "print(\"Mejor modelo:\", grid_search.best_estimator_)\n",
                "\n",
                "y_pred = grid_search.predict(X_test)"
            ]
        },
        {
            "cell_type": "code",
            "execution_count": 80,
            "metadata": {},
            "outputs": [
                {
                    "data": {
                        "text/plain": [
                            "0.9641350210970464"
                        ]
                    },
                    "execution_count": 80,
                    "metadata": {},
                    "output_type": "execute_result"
                }
            ],
            "source": [
                "accuracy_score(y_test, y_pred)"
            ]
        },
        {
            "cell_type": "markdown",
            "metadata": {},
            "source": [
                "Bueno, ha mejorado un 0.5% algo es algo"
            ]
        }
    ],
    "metadata": {
        "kernelspec": {
            "display_name": "Python 3",
            "language": "python",
            "name": "python3"
        },
        "language_info": {
            "codemirror_mode": {
                "name": "ipython",
                "version": 3
            },
            "file_extension": ".py",
            "mimetype": "text/x-python",
            "name": "python",
            "nbconvert_exporter": "python",
            "pygments_lexer": "ipython3",
            "version": "3.11.4"
        },
        "orig_nbformat": 4
    },
    "nbformat": 4,
    "nbformat_minor": 2
}
